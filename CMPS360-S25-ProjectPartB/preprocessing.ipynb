{
 "cells": [
  {
   "cell_type": "code",
   "execution_count": 3,
   "metadata": {},
   "outputs": [
    {
     "ename": "ImportError",
     "evalue": "cannot import name 'PDFStackT' from 'pdfminer.pdfinterp' (/Users/zubair/Code/uni/data-science-project/.venv/lib/python3.12/site-packages/pdfminer/pdfinterp.py)",
     "output_type": "error",
     "traceback": [
      "\u001b[31m---------------------------------------------------------------------------\u001b[39m",
      "\u001b[31mImportError\u001b[39m                               Traceback (most recent call last)",
      "\u001b[36mCell\u001b[39m\u001b[36m \u001b[39m\u001b[32mIn[3]\u001b[39m\u001b[32m, line 1\u001b[39m\n\u001b[32m----> \u001b[39m\u001b[32m1\u001b[39m \u001b[38;5;28;01mimport\u001b[39;00m\u001b[38;5;250m \u001b[39m\u001b[34;01mpdfplumber\u001b[39;00m\n\u001b[32m      2\u001b[39m \u001b[38;5;28;01mimport\u001b[39;00m\u001b[38;5;250m \u001b[39m\u001b[34;01mcsv\u001b[39;00m\n\u001b[32m      4\u001b[39m \u001b[38;5;28;01mwith\u001b[39;00m pdfplumber.open(\u001b[33m\"\u001b[39m\u001b[33mkilled-in-gaza_moh_2025-03-23.pdf\u001b[39m\u001b[33m\"\u001b[39m) \u001b[38;5;28;01mas\u001b[39;00m pdf:\n",
      "\u001b[36mFile \u001b[39m\u001b[32m~/Code/uni/data-science-project/.venv/lib/python3.12/site-packages/pdfplumber/__init__.py:15\u001b[39m\n\u001b[32m     13\u001b[39m \u001b[38;5;28;01mfrom\u001b[39;00m\u001b[38;5;250m \u001b[39m\u001b[34;01m.\u001b[39;00m\u001b[38;5;250m \u001b[39m\u001b[38;5;28;01mimport\u001b[39;00m utils\n\u001b[32m     14\u001b[39m \u001b[38;5;28;01mfrom\u001b[39;00m\u001b[38;5;250m \u001b[39m\u001b[34;01m.\u001b[39;00m\u001b[34;01m_version\u001b[39;00m\u001b[38;5;250m \u001b[39m\u001b[38;5;28;01mimport\u001b[39;00m __version__\n\u001b[32m---> \u001b[39m\u001b[32m15\u001b[39m \u001b[38;5;28;01mfrom\u001b[39;00m\u001b[38;5;250m \u001b[39m\u001b[34;01m.\u001b[39;00m\u001b[34;01mpdf\u001b[39;00m\u001b[38;5;250m \u001b[39m\u001b[38;5;28;01mimport\u001b[39;00m PDF\n\u001b[32m     16\u001b[39m \u001b[38;5;28;01mfrom\u001b[39;00m\u001b[38;5;250m \u001b[39m\u001b[34;01m.\u001b[39;00m\u001b[34;01mrepair\u001b[39;00m\u001b[38;5;250m \u001b[39m\u001b[38;5;28;01mimport\u001b[39;00m repair\n\u001b[32m     18\u001b[39m \u001b[38;5;28mopen\u001b[39m = PDF.open\n",
      "\u001b[36mFile \u001b[39m\u001b[32m~/Code/uni/data-science-project/.venv/lib/python3.12/site-packages/pdfplumber/pdf.py:16\u001b[39m\n\u001b[32m     14\u001b[39m \u001b[38;5;28;01mfrom\u001b[39;00m\u001b[38;5;250m \u001b[39m\u001b[34;01m.\u001b[39;00m\u001b[34;01m_typing\u001b[39;00m\u001b[38;5;250m \u001b[39m\u001b[38;5;28;01mimport\u001b[39;00m T_num, T_obj_list\n\u001b[32m     15\u001b[39m \u001b[38;5;28;01mfrom\u001b[39;00m\u001b[38;5;250m \u001b[39m\u001b[34;01m.\u001b[39;00m\u001b[34;01mcontainer\u001b[39;00m\u001b[38;5;250m \u001b[39m\u001b[38;5;28;01mimport\u001b[39;00m Container\n\u001b[32m---> \u001b[39m\u001b[32m16\u001b[39m \u001b[38;5;28;01mfrom\u001b[39;00m\u001b[38;5;250m \u001b[39m\u001b[34;01m.\u001b[39;00m\u001b[34;01mpage\u001b[39;00m\u001b[38;5;250m \u001b[39m\u001b[38;5;28;01mimport\u001b[39;00m Page\n\u001b[32m     17\u001b[39m \u001b[38;5;28;01mfrom\u001b[39;00m\u001b[38;5;250m \u001b[39m\u001b[34;01m.\u001b[39;00m\u001b[34;01mrepair\u001b[39;00m\u001b[38;5;250m \u001b[39m\u001b[38;5;28;01mimport\u001b[39;00m T_repair_setting, _repair\n\u001b[32m     18\u001b[39m \u001b[38;5;28;01mfrom\u001b[39;00m\u001b[38;5;250m \u001b[39m\u001b[34;01m.\u001b[39;00m\u001b[34;01mstructure\u001b[39;00m\u001b[38;5;250m \u001b[39m\u001b[38;5;28;01mimport\u001b[39;00m PDFStructTree, StructTreeMissing\n",
      "\u001b[36mFile \u001b[39m\u001b[32m~/Code/uni/data-science-project/.venv/lib/python3.12/site-packages/pdfplumber/page.py:29\u001b[39m\n\u001b[32m     19\u001b[39m \u001b[38;5;28;01mfrom\u001b[39;00m\u001b[38;5;250m \u001b[39m\u001b[34;01mpdfminer\u001b[39;00m\u001b[34;01m.\u001b[39;00m\u001b[34;01mconverter\u001b[39;00m\u001b[38;5;250m \u001b[39m\u001b[38;5;28;01mimport\u001b[39;00m PDFPageAggregator\n\u001b[32m     20\u001b[39m \u001b[38;5;28;01mfrom\u001b[39;00m\u001b[38;5;250m \u001b[39m\u001b[34;01mpdfminer\u001b[39;00m\u001b[34;01m.\u001b[39;00m\u001b[34;01mlayout\u001b[39;00m\u001b[38;5;250m \u001b[39m\u001b[38;5;28;01mimport\u001b[39;00m (\n\u001b[32m     21\u001b[39m     LTChar,\n\u001b[32m     22\u001b[39m     LTComponent,\n\u001b[32m   (...)\u001b[39m\u001b[32m     27\u001b[39m     LTTextContainer,\n\u001b[32m     28\u001b[39m )\n\u001b[32m---> \u001b[39m\u001b[32m29\u001b[39m \u001b[38;5;28;01mfrom\u001b[39;00m\u001b[38;5;250m \u001b[39m\u001b[34;01mpdfminer\u001b[39;00m\u001b[34;01m.\u001b[39;00m\u001b[34;01mpdfinterp\u001b[39;00m\u001b[38;5;250m \u001b[39m\u001b[38;5;28;01mimport\u001b[39;00m PDFPageInterpreter, PDFStackT\n\u001b[32m     30\u001b[39m \u001b[38;5;28;01mfrom\u001b[39;00m\u001b[38;5;250m \u001b[39m\u001b[34;01mpdfminer\u001b[39;00m\u001b[34;01m.\u001b[39;00m\u001b[34;01mpdfpage\u001b[39;00m\u001b[38;5;250m \u001b[39m\u001b[38;5;28;01mimport\u001b[39;00m PDFPage\n\u001b[32m     31\u001b[39m \u001b[38;5;28;01mfrom\u001b[39;00m\u001b[38;5;250m \u001b[39m\u001b[34;01mpdfminer\u001b[39;00m\u001b[34;01m.\u001b[39;00m\u001b[34;01mpsparser\u001b[39;00m\u001b[38;5;250m \u001b[39m\u001b[38;5;28;01mimport\u001b[39;00m PSLiteral\n",
      "\u001b[31mImportError\u001b[39m: cannot import name 'PDFStackT' from 'pdfminer.pdfinterp' (/Users/zubair/Code/uni/data-science-project/.venv/lib/python3.12/site-packages/pdfminer/pdfinterp.py)"
     ]
    }
   ],
   "source": [
    "import pdfplumber\n",
    "import csv\n",
    "\n",
    "with pdfplumber.open(\"killed-in-gaza_moh_2025-03-23.pdf\") as pdf:\n",
    "    with open(\"killed-in-gaza_moh_2025-03-23.csv\", \"w\", newline=\"\") as f:\n",
    "        writer = csv.writer(f)\n",
    "        for page in pdf.pages:\n",
    "            table = page.extract_table()\n",
    "            if table:\n",
    "                for row in table:\n",
    "                    writer.writerow(row)"
   ]
  },
  {
   "cell_type": "code",
   "execution_count": 16,
   "metadata": {},
   "outputs": [
    {
     "name": "stdout",
     "output_type": "stream",
     "text": [
      "CSV file created successfully.\n"
     ]
    }
   ],
   "source": [
    "import json\n",
    "import csv\n",
    "with open(\"infrastructure-damaged_2025-04-12.json\", \"r\") as f:\n",
    "    data = json.load(f)\n",
    "    with open(\"infrastructure-damaged.csv\", \"w\", newline=\"\") as f:\n",
    "        writer = csv.writer(f)\n",
    "        writer.writerow(data[0].keys())\n",
    "        for item in data:\n",
    "            writer.writerow(item.values())\n",
    "    print(\"CSV file created successfully.\")\n"
   ]
  },
  {
   "cell_type": "code",
   "execution_count": null,
   "metadata": {},
   "outputs": [
    {
     "name": "stdout",
     "output_type": "stream",
     "text": [
      "CSV file 'infrastructure-damaged_fixed.csv' created successfully.\n"
     ]
    }
   ],
   "source": [
    "import csv\n",
    "import json\n",
    "\n",
    "input_csv_file = \"infrastructure-damaged.csv\"\n",
    "output_csv_file = \"infrastructure-damaged_fixed.csv\"\n",
    "\n",
    "def fix_data(input_file, output_file):\n",
    "    with open(\"infrastructure-damaged_2025-04-12.json\", \"r\") as f:\n",
    "        data = json.load(f)\n",
    "\n",
    "    all_keys = {\n",
    "        \"report_date\",\n",
    "        \"civic_buildings\",\n",
    "        \"educational_buildings\",\n",
    "        \"places_of_worship\",\n",
    "        \"residential\",\n",
    "    }\n",
    "\n",
    "    civic_keys = {\"destroyed\", \"ext_destroyed\"}\n",
    "    educational_keys = {\"destroyed\", \"ext_destroyed\", \"damaged\", \"ext_damaged\"}\n",
    "    worship_keys = {\n",
    "        \"mosques_destroyed\",\n",
    "        \"ext_mosques_destroyed\",\n",
    "        \"mosques_damaged\",\n",
    "        \"ext_mosques_damaged\",\n",
    "        \"churches_destroyed\",\n",
    "        \"ext_churches_destroyed\",\n",
    "    }\n",
    "    residential_keys = {\"destroyed\", \"ext_destroyed\", \"damaged\", \"ext_damaged\"}\n",
    "\n",
    "    with open(output_file, \"w\", newline=\"\") as f:\n",
    "        writer = csv.writer(f)\n",
    "\n",
    "        header = [\n",
    "            \"report_date\",\n",
    "            \"civic_destroyed\",\n",
    "            \"civic_ext_destroyed\",\n",
    "            \"edu_destroyed\",\n",
    "            \"edu_ext_destroyed\",\n",
    "            \"edu_damaged\",\n",
    "            \"edu_ext_damaged\",\n",
    "            \"worship_mosques_destroyed\",\n",
    "            \"worship_ext_mosques_destroyed\",\n",
    "            \"worship_mosques_damaged\",\n",
    "            \"worship_ext_mosques_damaged\",\n",
    "            \"worship_churches_destroyed\",\n",
    "            \"worship_ext_churches_destroyed\",\n",
    "            \"residential_destroyed\",\n",
    "            \"residential_ext_destroyed\",\n",
    "            \"residential_damaged\",\n",
    "            \"residential_ext_damaged\",\n",
    "        ]\n",
    "        writer.writerow(header)\n",
    "\n",
    "        # Process each item in the JSON data\n",
    "        for item in data:\n",
    "            report_date = item.get(\"report_date\", \"\")\n",
    "\n",
    "            civic = item.get(\"civic_buildings\", {})\n",
    "            civic_destroyed = civic.get(\"destroyed\", 0)\n",
    "            civic_ext_destroyed = civic.get(\"ext_destroyed\", 0)\n",
    "\n",
    "            edu = item.get(\"educational_buildings\", {})\n",
    "            edu_destroyed = edu.get(\"destroyed\", 0)\n",
    "            edu_ext_destroyed = edu.get(\"ext_destroyed\", 0)\n",
    "            edu_damaged = edu.get(\"damaged\", 0)\n",
    "            edu_ext_damaged = edu.get(\"ext_damaged\", 0)\n",
    "\n",
    "            worship = item.get(\"places_of_worship\", {})\n",
    "            worship_mosques_destroyed = worship.get(\"mosques_destroyed\", 0)\n",
    "            worship_ext_mosques_destroyed = worship.get(\"ext_mosques_destroyed\", 0)\n",
    "            worship_mosques_damaged = worship.get(\"mosques_damaged\", 0)\n",
    "            worship_ext_mosques_damaged = worship.get(\"ext_mosques_damaged\", 0)\n",
    "            worship_churches_destroyed = worship.get(\"churches_destroyed\", 0)\n",
    "            worship_ext_churches_destroyed = worship.get(\"ext_churches_destroyed\", 0)\n",
    "\n",
    "            residential = item.get(\"residential\", {})\n",
    "            residential_destroyed = residential.get(\"destroyed\", 0)\n",
    "            residential_ext_destroyed = residential.get(\"ext_destroyed\", 0)\n",
    "            residential_damaged = residential.get(\"damaged\", 0)\n",
    "            residential_ext_damaged = residential.get(\"ext_damaged\", 0)\n",
    "\n",
    "            row = [\n",
    "                report_date,\n",
    "                civic_destroyed,\n",
    "                civic_ext_destroyed,\n",
    "                edu_destroyed,\n",
    "                edu_ext_destroyed,\n",
    "                edu_damaged,\n",
    "                edu_ext_damaged,\n",
    "                worship_mosques_destroyed,\n",
    "                worship_ext_mosques_destroyed,\n",
    "                worship_mosques_damaged,\n",
    "                worship_ext_mosques_damaged,\n",
    "                worship_churches_destroyed,\n",
    "                worship_ext_churches_destroyed,\n",
    "                residential_destroyed,\n",
    "                residential_ext_destroyed,\n",
    "                residential_damaged,\n",
    "                residential_ext_damaged,\n",
    "            ]\n",
    "            writer.writerow(row)\n",
    "\n",
    "    print(f\"CSV file '{output_file}' created successfully.\")\n",
    "\n",
    "\n",
    "fix_data(input_csv_file, output_csv_file)"
   ]
  }
 ],
 "metadata": {
  "kernelspec": {
   "display_name": ".venv",
   "language": "python",
   "name": "python3"
  },
  "language_info": {
   "codemirror_mode": {
    "name": "ipython",
    "version": 3
   },
   "file_extension": ".py",
   "mimetype": "text/x-python",
   "name": "python",
   "nbconvert_exporter": "python",
   "pygments_lexer": "ipython3",
   "version": "3.12.7"
  }
 },
 "nbformat": 4,
 "nbformat_minor": 2
}
